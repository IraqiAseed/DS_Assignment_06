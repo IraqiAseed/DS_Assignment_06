{
 "cells": [
  {
   "cell_type": "code",
   "execution_count": 1,
   "metadata": {},
   "outputs": [
    {
     "name": "stdout",
     "output_type": "stream",
     "text": [
      "Reverse \"hello world\": dlrow olleh\n",
      "Capitalize \"hello world\": Hello world\n"
     ]
    }
   ],
   "source": [
    "import my_packages.Transformers.StringTransformer as str_transformers\n",
    "\n",
    "org_str = 'hello world'\n",
    "rev = str_transformers.reverse_string(org_str)\n",
    "cap = str_transformers.capitalize_string(org_str)\n",
    "\n",
    "print(f'Reverse \"{org_str}\": {rev}\\nCapitalize \"{org_str}\": {cap}')"
   ]
  },
  {
   "cell_type": "code",
   "execution_count": 4,
   "metadata": {},
   "outputs": [
    {
     "name": "stdout",
     "output_type": "stream",
     "text": [
      "The average of [1, 2, 3, 4, 5, 6, 7] is: 4.0\n"
     ]
    }
   ],
   "source": [
    "from my_packages.Operations.Math import get_average as list_average\n",
    "lst = [1,2,3,4,5,6,7]\n",
    "print(f'The average of {lst} is: {list_average(lst)}')"
   ]
  },
  {
   "cell_type": "code",
   "execution_count": null,
   "metadata": {},
   "outputs": [],
   "source": []
  },
  {
   "cell_type": "code",
   "execution_count": null,
   "metadata": {},
   "outputs": [],
   "source": []
  }
 ],
 "metadata": {
  "kernelspec": {
   "display_name": "Python 3",
   "language": "python",
   "name": "python3"
  },
  "language_info": {
   "codemirror_mode": {
    "name": "ipython",
    "version": 3
   },
   "file_extension": ".py",
   "mimetype": "text/x-python",
   "name": "python",
   "nbconvert_exporter": "python",
   "pygments_lexer": "ipython3",
   "version": "3.8.5"
  }
 },
 "nbformat": 4,
 "nbformat_minor": 4
}
